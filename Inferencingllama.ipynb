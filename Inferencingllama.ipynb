{
 "cells": [
  {
   "cell_type": "code",
   "execution_count": 5,
   "id": "0bf4ea72-b7bd-4726-bf71-edb33cda3338",
   "metadata": {},
   "outputs": [],
   "source": [
    "from langchain_huggingface import HuggingFaceEmbeddings\n",
    "from langchain_community.vectorstores import Chroma\n",
    "from langchain.text_splitter import CharacterTextSplitter\n",
    "from langchain_community.document_loaders import PyMuPDFLoader\n",
    "from langchain_community.llms import Ollama"
   ]
  },
  {
   "cell_type": "code",
   "execution_count": 27,
   "id": "8695c802-46a3-49fe-8706-674ac3f294f4",
   "metadata": {},
   "outputs": [],
   "source": [
    "!pip install -qU langchain-ollama"
   ]
  },
  {
   "cell_type": "code",
   "execution_count": 29,
   "id": "cc6560dd-1e0b-4d90-934b-0c454a805506",
   "metadata": {},
   "outputs": [
    {
     "name": "stdout",
     "output_type": "stream",
     "text": [
      "Requirement already satisfied: ollama in c:\\users\\lipin\\anaconda3\\lib\\site-packages (0.4.8)\n",
      "Requirement already satisfied: httpx<0.29,>=0.27 in c:\\users\\lipin\\anaconda3\\lib\\site-packages (from ollama) (0.27.0)\n",
      "Requirement already satisfied: pydantic<3.0.0,>=2.9.0 in c:\\users\\lipin\\anaconda3\\lib\\site-packages (from ollama) (2.11.4)\n",
      "Requirement already satisfied: anyio in c:\\users\\lipin\\anaconda3\\lib\\site-packages (from httpx<0.29,>=0.27->ollama) (4.2.0)\n",
      "Requirement already satisfied: certifi in c:\\users\\lipin\\anaconda3\\lib\\site-packages (from httpx<0.29,>=0.27->ollama) (2025.1.31)\n",
      "Requirement already satisfied: httpcore==1.* in c:\\users\\lipin\\anaconda3\\lib\\site-packages (from httpx<0.29,>=0.27->ollama) (1.0.2)\n",
      "Requirement already satisfied: idna in c:\\users\\lipin\\anaconda3\\lib\\site-packages (from httpx<0.29,>=0.27->ollama) (3.7)\n",
      "Requirement already satisfied: sniffio in c:\\users\\lipin\\anaconda3\\lib\\site-packages (from httpx<0.29,>=0.27->ollama) (1.3.0)\n",
      "Requirement already satisfied: h11<0.15,>=0.13 in c:\\users\\lipin\\anaconda3\\lib\\site-packages (from httpcore==1.*->httpx<0.29,>=0.27->ollama) (0.14.0)\n",
      "Requirement already satisfied: annotated-types>=0.6.0 in c:\\users\\lipin\\anaconda3\\lib\\site-packages (from pydantic<3.0.0,>=2.9.0->ollama) (0.6.0)\n",
      "Requirement already satisfied: pydantic-core==2.33.2 in c:\\users\\lipin\\anaconda3\\lib\\site-packages (from pydantic<3.0.0,>=2.9.0->ollama) (2.33.2)\n",
      "Requirement already satisfied: typing-extensions>=4.12.2 in c:\\users\\lipin\\anaconda3\\lib\\site-packages (from pydantic<3.0.0,>=2.9.0->ollama) (4.13.2)\n",
      "Requirement already satisfied: typing-inspection>=0.4.0 in c:\\users\\lipin\\anaconda3\\lib\\site-packages (from pydantic<3.0.0,>=2.9.0->ollama) (0.4.0)\n",
      "Note: you may need to restart the kernel to use updated packages.\n"
     ]
    }
   ],
   "source": [
    "%pip install -U ollama"
   ]
  },
  {
   "cell_type": "code",
   "execution_count": 31,
   "id": "e7540a5e-c340-4bfd-bb45-7dccd03ffe2b",
   "metadata": {},
   "outputs": [],
   "source": [
    "from langchain_ollama import ChatOllama"
   ]
  },
  {
   "cell_type": "code",
   "execution_count": 33,
   "id": "91f3d044-48d8-4062-8203-e5adc493daa2",
   "metadata": {},
   "outputs": [],
   "source": [
    "llm = ChatOllama(\n",
    "    model=\"llama3.2\")"
   ]
  },
  {
   "cell_type": "code",
   "execution_count": 35,
   "id": "e4c7a286-f13b-47ec-b6a1-8198233bacbb",
   "metadata": {},
   "outputs": [
    {
     "data": {
      "text/plain": [
       "AIMessage(content=\"DeepSeek is an AI research project that aims to develop a knowledge graph-based model for natural language processing (NLP) tasks. The reasoning capabilities of DeepSeek are based on its ability to process and integrate information from multiple sources, making connections between different concepts and entities.\\n\\nHere's how DeepSeek develops reasoning capabilities:\\n\\n1. **Knowledge Graph Representation**: DeepSeek represents knowledge as a graph of entities, relationships, and attributes. This graph is used to store and retrieve information, allowing the model to make inferences and draw conclusions based on the available data.\\n2. **Graph Neural Networks (GNNs)**: DeepSeek uses GNNs to process the graph structure and extract relevant information. GNNs are designed to propagate information through the graph, allowing the model to reason about complex relationships between entities.\\n3. **Attention Mechanisms**: DeepSeek employs attention mechanisms to focus on specific parts of the graph when making predictions or inferences. This allows the model to selectively weigh the importance of different pieces of information and avoid over-reliance on irrelevant data.\\n4. **Graph-based Reasoning**: DeepSeek's reasoning capabilities are based on the manipulation of the knowledge graph itself. The model can add, remove, or modify entities, relationships, and attributes in the graph, allowing it to reason about the consequences of different actions or events.\\n5. **Hybrid Architecture**: DeepSeek's architecture combines traditional neural network components with graph-based models, enabling the incorporation of both sequential and graph-based reasoning mechanisms.\\n\\nBy integrating these components, DeepSeek is able to develop its reasoning capabilities through:\\n\\n1. **Entity Disambiguation**: The model can disambiguate entities with the same name but different meanings, allowing it to reason about their relationships and attributes.\\n2. **Conceptual Entailment**: DeepSeek can make inferences based on the relationships between concepts, enabling it to understand implications and consequences.\\n3. **Inferential Reasoning**: The model can use graph-based reasoning mechanisms to infer missing information or connections between entities.\\n4. **Common Sense Knowledge**: DeepSeek incorporates common sense knowledge into its reasoning capabilities, allowing it to reason about everyday situations and events.\\n\\nOverall, DeepSeek's reasoning capabilities are based on its ability to process and integrate information from multiple sources, making connections between different concepts and entities, and using graph-based models to manipulate the knowledge graph itself.\", additional_kwargs={}, response_metadata={'model': 'llama3.2', 'created_at': '2025-05-12T15:29:00.6622506Z', 'done': True, 'done_reason': 'stop', 'total_duration': 60569946200, 'load_duration': 2432003200, 'prompt_eval_count': 33, 'prompt_eval_duration': 1466609800, 'eval_count': 479, 'eval_duration': 56594133700, 'model_name': 'llama3.2'}, id='run--35436932-b70e-40d7-979c-a487a92dd930-0', usage_metadata={'input_tokens': 33, 'output_tokens': 479, 'total_tokens': 512})"
      ]
     },
     "execution_count": 35,
     "metadata": {},
     "output_type": "execute_result"
    }
   ],
   "source": [
    "llm.invoke(question)"
   ]
  },
  {
   "cell_type": "code",
   "execution_count": 51,
   "id": "d0b3f938-e493-4b74-accb-bde08abecf96",
   "metadata": {},
   "outputs": [],
   "source": [
    "question = \"What is the deal between US and China on May 11, 2025\""
   ]
  },
  {
   "cell_type": "code",
   "execution_count": 53,
   "id": "bdcdd743-51bc-41fc-83d3-c6ea10e3be3d",
   "metadata": {},
   "outputs": [
    {
     "data": {
      "text/plain": [
       "AIMessage(content=\"I don't have information about a specific agreement or deal between the US and China on May 11, 2025. As my knowledge cutoff is December 2023, I do not have real-time information or future events.\\n\\nHowever, I can suggest some possible sources where you may be able to find information about potential agreements or developments between the US and China:\\n\\n1. Official government websites: You can check the official websites of the US Department of State, the US Department of Commerce, and the Chinese Ministry of Foreign Affairs for press releases and statements related to their interactions.\\n2. News outlets: Reputable news organizations such as CNN, BBC, and Reuters often report on developments between the US and China.\\n3. Think tanks and research institutions: Organizations like the Brookings Institution, the Council on Foreign Relations, and the Peterson Institute for International Economics may publish analysis and reports on US-China relations.\\n\\nIf you're looking for information on a specific topic or agreement, I recommend searching online or checking with these sources for updates.\", additional_kwargs={}, response_metadata={'model': 'llama3.2', 'created_at': '2025-05-12T15:43:08.9111155Z', 'done': True, 'done_reason': 'stop', 'total_duration': 23169697400, 'load_duration': 28186800, 'prompt_eval_count': 41, 'prompt_eval_duration': 1132678100, 'eval_count': 207, 'eval_duration': 22007161800, 'model_name': 'llama3.2'}, id='run--5192f42d-8025-40e9-b51b-f9a14d5fd370-0', usage_metadata={'input_tokens': 41, 'output_tokens': 207, 'total_tokens': 248})"
      ]
     },
     "execution_count": 53,
     "metadata": {},
     "output_type": "execute_result"
    }
   ],
   "source": [
    "llm.invoke(question)"
   ]
  },
  {
   "cell_type": "code",
   "execution_count": 55,
   "id": "dda85ad1-0805-46a4-a49f-c5f0c0b610bf",
   "metadata": {},
   "outputs": [],
   "source": [
    "# Load the paper\n",
    "loader = PyMuPDFLoader(\"U.S. Announces China Trade Deal in Geneva – The White House.pdf\")\n",
    "documents = loader.load()\n",
    "\n",
    "# Split the documents into chunks\n",
    "text_splitter = CharacterTextSplitter(chunk_size=1000, chunk_overlap=200)\n",
    "texts = text_splitter.split_documents(documents)\n",
    "\n",
    "# Create embeddings\n",
    "embeddings = HuggingFaceEmbeddings()\n",
    "\n",
    "# Create a vector store\n",
    "db = Chroma.from_documents(texts, embeddings)"
   ]
  },
  {
   "cell_type": "code",
   "execution_count": 57,
   "id": "6b43122a-979c-4ece-885e-1ea7df45fa85",
   "metadata": {},
   "outputs": [],
   "source": [
    "from langchain.chains import create_retrieval_chain\n",
    "from langchain.chains.combine_documents import create_stuff_documents_chain\n",
    "from langchain_core.prompts import ChatPromptTemplate\n",
    "\n",
    "retriever = db.as_retriever()\n",
    "\n",
    "prompt = ChatPromptTemplate.from_messages([\n",
    "    (\"system\", \"You are an assistant for question-answering tasks. Use the following pieces of retrieved context to augment your own knowledge.\"),\n",
    "    (\"human\", \"Context: {context}\"),\n",
    "    (\"human\", \"Question: {input}\"),\n",
    "    (\"human\", \"Please provide a detailed answer, combining information from the context (if relevant) and your own knowledge.\")\n",
    "])\n",
    "\n",
    "question_answer_chain = create_stuff_documents_chain(llm, prompt)\n",
    "rag_chain = create_retrieval_chain(retriever, question_answer_chain)"
   ]
  },
  {
   "cell_type": "code",
   "execution_count": 59,
   "id": "0f0b7d74-b1ba-46e5-a88a-09eb56d2a0c1",
   "metadata": {},
   "outputs": [
    {
     "data": {
      "text/plain": [
       "[Document(metadata={'author': '', 'creationDate': '', 'creationdate': '', 'creator': '', 'file_path': 'Economic_And_Trade_Agreement_Between_The_United_States_And_China_Text.pdf', 'format': 'PDF 1.6', 'keywords': '', 'modDate': '', 'moddate': '', 'page': 0, 'producer': '', 'source': 'Economic_And_Trade_Agreement_Between_The_United_States_And_China_Text.pdf', 'subject': '', 'title': '', 'total_pages': 91, 'trapped': ''}, page_content='ECONOMIC AND TRADE AGREEMENT BETWEEN THE \\nGOVERNMENT OF THE UNITED STATES OF AMERICA AND THE \\nGOVERNMENT OF THE PEOPLE’S REPUBLIC OF CHINA \\n \\n  \\nPREAMBLE \\n \\n \\nThe Government of the United States of America and the Government of the People’s \\nRepublic of China (collectively the “Parties”), \\nRECOGNIZING the importance of their bilateral economic and trade relationship;  \\nREALIZING that it is in the interests of both countries that trade grow and that there is \\nadherence to international norms so as to promote market-based outcomes;   \\nCONVINCED of the benefits of contributing to the harmonious development and expansion of \\nworld trade and providing a catalyst to broader international cooperation; \\nACKNOWLEDGING the existing trade and investment concerns that have been identified by \\nthe Parties; and   \\nRECOGNIZING the desirability of resolving existing and any future trade and investment \\nconcerns as constructively and expeditiously as possible, \\nHAVE AGREED as follows:'),\n",
       " Document(metadata={'author': '', 'creationDate': \"D:20250512154135+00'00'\", 'creationdate': '2025-05-12T15:41:35+00:00', 'creator': 'Mozilla/5.0 (Windows NT 10.0; Win64; x64) AppleWebKit/537.36 (KHTML, like Gecko) Chrome/135.0.0.0 Safari/537.36 Edg/135.0.0.0', 'file_path': 'U.S. Announces China Trade Deal in Geneva – The White House.pdf', 'format': 'PDF 1.4', 'keywords': '', 'modDate': \"D:20250512154135+00'00'\", 'moddate': '2025-05-12T15:41:35+00:00', 'page': 0, 'producer': 'Skia/PDF m135', 'source': 'U.S. Announces China Trade Deal in Geneva – The White House.pdf', 'subject': '', 'title': 'U.S. Announces China Trade Deal in Geneva – The White House', 'total_pages': 3, 'trapped': ''}, page_content='ARTICLES\\nU.S. Announces China Trade Deal in Geneva\\nThe White House\\nMay 11, 2025\\nSecretary of the Treasury Scott Bessent: “I’m happy to report that we made substantial\\nprogress between the United States and China in the very important trade talks. First, I\\nwant to thank our Swiss host. The Swiss government has been very kind in providing us\\nthis wonderful venue, and I think that led to a great deal of productivity we’ve seen. We\\nwill be giving details tomorrow, but I can tell you that the talks were productive. We had\\nthe vice premier, two vice ministers, who were integrally involved, Ambassador\\nJamieson, and myself. And I spoke to President Trump, as did Ambassador Jamieson,\\nlast night, and he is fully informed of what is going on. So, there will be a complete\\nbriefing tomorrow morning.”\\nU.S. Trade Representative Ambassador Jamieson Greer: “This was, as the Secretary\\npointed out, a very constructive two days. It’s important to understand how quickly we\\nwere able to come to agreement, which reflects that perhaps the differences were not\\nso large as maybe thought. That being said, there was a lot of groundwork that went into\\nthese two days. Just remember why we’re here in the first place — the United States has\\na massive $1.2 trillion trade deficit, so the President declared a national emergency and\\nimposed tariffs, and we’re confident that the deal we struck with our Chinese partners\\nwill help us to work toward resolving that national emergency.”\\nNEWS\\nThe WHITE HOUSE\\n5/12/25, 11:41 AM\\nU.S. Announces China Trade Deal in Geneva – The White House\\nhttps://www.whitehouse.gov/articles/2025/05/u-s-announces-china-trade-deal-in-geneva/\\n1/3'),\n",
       " Document(metadata={'author': '', 'creationDate': '', 'creationdate': '', 'creator': '', 'file_path': 'Economic_And_Trade_Agreement_Between_The_United_States_And_China_Text.pdf', 'format': 'PDF 1.6', 'keywords': '', 'modDate': '', 'moddate': '', 'page': 52, 'producer': '', 'source': 'Economic_And_Trade_Agreement_Between_The_United_States_And_China_Text.pdf', 'subject': '', 'title': '', 'total_pages': 91, 'trapped': ''}, page_content='6-1 \\n \\n \\nCHAPTER 6 \\n \\nEXPANDING TRADE \\n \\n \\nArticle 6.1:  Objectives \\n \\n1. \\nThe Parties acknowledge that trade and economic structural changes resulting from this \\nAgreement and from other actions being taken by China to open up its economy and improve its \\ntrade regime should lead to improved trade flows, including significant increases in exports of \\ngoods and services to China by the United States and other countries.   \\n \\n2. \\nThe Parties believe that expanding trade is conducive to the improvement of their bilateral \\ntrade relationship, the optimal allocation of resources, economic restructuring, and sustainable \\neconomic development, given the high degree of complementarity in trade between them.   \\n \\n3. \\nThe Parties recognize that the United States produces and can supply high-quality, \\ncompetitively priced goods and services, while China needs to increase the importation of quality \\nand affordable goods and services to satisfy the increasing demand from Chinese consumers.  \\n \\n4. \\nThe Parties accordingly seek to work constructively and cooperatively toward an improved \\nbilateral trade relationship and to explore appropriate steps to facilitate increased trade. \\n \\n \\nArticle 6.2:  Trade Opportunities \\n \\n1. \\nDuring the two-year period from January 1, 2020 through December 31, 2021, China shall \\nensure that purchases and imports into China from the United States of the manufactured goods, \\nagricultural goods, energy products, and services identified in Annex 6.1 exceed the corresponding \\n2017 baseline amount by no less than $200 billion.  Specifically, China shall ensure that:     \\n \\n(a) \\nFor the category of manufactured goods identified in Annex 6.1, no less than $32.9 \\nbillion above the corresponding 2017 baseline amount is purchased and imported \\ninto China from the United States in calendar year 2020, and no less than $44.8 \\nbillion above the corresponding 2017 baseline amount is purchased and imported \\ninto China from the United States in calendar year 2021;  \\n \\n(b) \\nFor the category of agricultural goods identified in Annex 6.1, no less than $12.5 \\nbillion above the corresponding 2017 baseline amount is purchased and imported \\ninto China from the United States in calendar year 2020, and no less than $19.5 \\nbillion above the corresponding 2017 baseline amount is purchased and imported \\ninto China from the United States in calendar year 2021;  \\n \\n(c) \\nFor the category of energy products identified in Annex 6.1, no less than $18.5 \\nbillion above the corresponding 2017 baseline amount is purchased and imported'),\n",
       " Document(metadata={'author': '', 'creationDate': '', 'creationdate': '', 'creator': '', 'file_path': 'Economic_And_Trade_Agreement_Between_The_United_States_And_China_Text.pdf', 'format': 'PDF 1.6', 'keywords': '', 'modDate': '', 'moddate': '', 'page': 53, 'producer': '', 'source': 'Economic_And_Trade_Agreement_Between_The_United_States_And_China_Text.pdf', 'subject': '', 'title': '', 'total_pages': 91, 'trapped': ''}, page_content='6-2 \\n \\ninto China from the United States in calendar year 2020, and no less than $33.9 \\nbillion above the corresponding 2017 baseline amount is purchased and imported \\ninto China from the United States in calendar year 2021; and \\n \\n(d) \\nFor the category of services identified in Annex 6.1, no less than $12.8 billion above \\nthe corresponding 2017 baseline amount is purchased and imported into China from \\nthe United States in calendar year 2020, and no less than $25.1 billion above the \\ncorresponding 2017 baseline amount is purchased and imported into China from \\nthe United States in calendar year 2021. \\n \\n2. \\nThe Parties shall specify the increases in purchases and imports for the subcategories listed \\nin Annex 6.1 as appropriate. \\n \\n3. \\nThe Parties project that the trajectory of increases in the amounts of manufactured goods, \\nagricultural goods, energy products, and services purchased and imported into China from the \\nUnited States will continue in calendar years 2022 through 2025. \\n \\n4. \\nThe United States shall ensure to take appropriate steps to facilitate the availability of U.S. \\ngoods and services to be purchased and imported into China. \\n \\n5. \\nThe Parties acknowledge that purchases will be made at market prices based on commercial \\nconsiderations and that market conditions, particularly in the case of agricultural goods, may \\ndictate the timing of purchases within any given year. \\n \\n6. \\nOfficial Chinese trade data and official U.S. trade data shall be used to determine whether \\nthis Chapter has been implemented.  If an analysis of the respective trade data gives rise to \\nconflicting assessments of whether this Chapter has been implemented, the Parties shall engage in \\nconsultations.   \\n \\n7. \\nIf China believes that its ability to fulfill its obligations under this Chapter is being affected \\nby an action or inaction by the United States or by other circumstances arising in the United States, \\nChina is entitled to request consultations with the United States.')]"
      ]
     },
     "execution_count": 59,
     "metadata": {},
     "output_type": "execute_result"
    }
   ],
   "source": [
    "retriever.invoke(question)"
   ]
  },
  {
   "cell_type": "code",
   "execution_count": 61,
   "id": "73f8e18a-c93b-4923-a2e8-65f1419800f4",
   "metadata": {},
   "outputs": [],
   "source": [
    "def ask_question(chain, question):\n",
    "    result = chain.invoke({\"input\": question})\n",
    "    print(\"Question:\", question)\n",
    "    print(\"\\n ** WITH CONTEXT **\\n\")\n",
    "    print(\"Answer:\", result['answer'])\n",
    "    print(\"\\nSources:\")\n",
    "    for doc in result['context']:\n",
    "        print(doc.metadata)\n",
    "    print(\"\\n\")"
   ]
  },
  {
   "cell_type": "code",
   "execution_count": 63,
   "id": "ecb83c71-77c1-4f41-9259-520bf6353735",
   "metadata": {},
   "outputs": [
    {
     "name": "stdout",
     "output_type": "stream",
     "text": [
      "Question: What is the deal between US and China on May 11, 2025\n",
      "\n",
      " ** WITH CONTEXT **\n",
      "\n",
      "Answer: Based on the provided context, it appears that the \"deal\" between the US and China refers to an economic and trade agreement signed by both countries in Geneva, Switzerland on May 11, 2025.\n",
      "\n",
      "According to the text, Secretary of the Treasury Scott Bessent stated that the talks were productive, and U.S. Trade Representative Ambassador Jamieson Greer described it as a \"very constructive\" two days. The agreement aims to address existing trade and investment concerns between the two countries.\n",
      "\n",
      "The main provisions of the agreement are outlined in Chapter 6: Expanding Trade. Article 6.1 sets out four objectives:\n",
      "\n",
      "1. To increase imports of high-quality goods and services from the US, including manufactured goods, agricultural goods, energy products, and services.\n",
      "2. To enhance trade flows between the two countries by improving market access and reducing trade barriers.\n",
      "3. To promote economic restructuring and sustainable development in both countries, given their complementary trade relationships.\n",
      "4. To foster an improved bilateral trade relationship through cooperation and constructive dialogue.\n",
      "\n",
      "Article 6.2 specifies that China will ensure purchases and imports of US goods and services exceed the corresponding 2017 baseline amount by at least $200 billion over a two-year period (January 1, 2020 to December 31, 2021). The categories of goods and services subject to these increases are:\n",
      "\n",
      "* Manufactured goods\n",
      "* Agricultural goods\n",
      "* Energy products\n",
      "* Services\n",
      "\n",
      "The agreement also includes provisions for consultations and dispute resolution in case of any trade disputes or concerns.\n",
      "\n",
      "It's essential to note that the text does not provide a comprehensive overview of the agreement, but rather highlights specific provisions related to expanding trade between the US and China. The full details of the agreement are likely to be outlined in the accompanying documents, such as Annex 6.1, which is mentioned in Article 6.2.\n",
      "\n",
      "In summary, the deal between the US and China on May 11, 2025, aims to address existing trade concerns, promote economic restructuring, and enhance bilateral trade relationships through expanded trade and cooperation.\n",
      "\n",
      "Sources:\n",
      "{'author': '', 'creationDate': '', 'creationdate': '', 'creator': '', 'file_path': 'Economic_And_Trade_Agreement_Between_The_United_States_And_China_Text.pdf', 'format': 'PDF 1.6', 'keywords': '', 'modDate': '', 'moddate': '', 'page': 0, 'producer': '', 'source': 'Economic_And_Trade_Agreement_Between_The_United_States_And_China_Text.pdf', 'subject': '', 'title': '', 'total_pages': 91, 'trapped': ''}\n",
      "{'author': '', 'creationDate': \"D:20250512154135+00'00'\", 'creationdate': '2025-05-12T15:41:35+00:00', 'creator': 'Mozilla/5.0 (Windows NT 10.0; Win64; x64) AppleWebKit/537.36 (KHTML, like Gecko) Chrome/135.0.0.0 Safari/537.36 Edg/135.0.0.0', 'file_path': 'U.S. Announces China Trade Deal in Geneva – The White House.pdf', 'format': 'PDF 1.4', 'keywords': '', 'modDate': \"D:20250512154135+00'00'\", 'moddate': '2025-05-12T15:41:35+00:00', 'page': 0, 'producer': 'Skia/PDF m135', 'source': 'U.S. Announces China Trade Deal in Geneva – The White House.pdf', 'subject': '', 'title': 'U.S. Announces China Trade Deal in Geneva – The White House', 'total_pages': 3, 'trapped': ''}\n",
      "{'author': '', 'creationDate': '', 'creationdate': '', 'creator': '', 'file_path': 'Economic_And_Trade_Agreement_Between_The_United_States_And_China_Text.pdf', 'format': 'PDF 1.6', 'keywords': '', 'modDate': '', 'moddate': '', 'page': 52, 'producer': '', 'source': 'Economic_And_Trade_Agreement_Between_The_United_States_And_China_Text.pdf', 'subject': '', 'title': '', 'total_pages': 91, 'trapped': ''}\n",
      "{'author': '', 'creationDate': '', 'creationdate': '', 'creator': '', 'file_path': 'Economic_And_Trade_Agreement_Between_The_United_States_And_China_Text.pdf', 'format': 'PDF 1.6', 'keywords': '', 'modDate': '', 'moddate': '', 'page': 53, 'producer': '', 'source': 'Economic_And_Trade_Agreement_Between_The_United_States_And_China_Text.pdf', 'subject': '', 'title': '', 'total_pages': 91, 'trapped': ''}\n",
      "\n",
      "\n"
     ]
    }
   ],
   "source": [
    "\n",
    "ask_question(rag_chain, question)"
   ]
  },
  {
   "cell_type": "code",
   "execution_count": null,
   "id": "ec09f444-ea0e-4961-b4bc-a51970ae0d8e",
   "metadata": {},
   "outputs": [],
   "source": []
  }
 ],
 "metadata": {
  "kernelspec": {
   "display_name": "Python [conda env:base] *",
   "language": "python",
   "name": "conda-base-py"
  },
  "language_info": {
   "codemirror_mode": {
    "name": "ipython",
    "version": 3
   },
   "file_extension": ".py",
   "mimetype": "text/x-python",
   "name": "python",
   "nbconvert_exporter": "python",
   "pygments_lexer": "ipython3",
   "version": "3.12.3"
  }
 },
 "nbformat": 4,
 "nbformat_minor": 5
}
